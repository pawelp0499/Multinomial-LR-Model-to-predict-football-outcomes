{
  "nbformat": 4,
  "nbformat_minor": 0,
  "metadata": {
    "colab": {
      "name": "Untitled0.ipynb",
      "provenance": [],
      "collapsed_sections": []
    },
    "kernelspec": {
      "name": "ir",
      "display_name": "R"
    },
    "language_info": {
      "name": "R"
    }
  },
  "cells": [
    {
      "cell_type": "code",
      "source": [
        "output <- read.csv(\"./output.csv\")"
      ],
      "metadata": {
        "id": "9DfZO4Rp6fhh"
      },
      "execution_count": null,
      "outputs": []
    },
    {
      "cell_type": "code",
      "source": [
        "install.packages('e1071', dependencies = TRUE)\n",
        "\n",
        "observations <- factor(output$Actual,\n",
        "                        levels = c(\"H\", \"A\", \"D\"))\n",
        "\n",
        "predicted <- factor(output$Predicted,\n",
        "                       levels = c(\"H\", \"A\", \"D\"))\n",
        "\n",
        "conf <- table(predicted, observations)"
      ],
      "metadata": {
        "id": "oUB6lT_UNd2z"
      },
      "execution_count": null,
      "outputs": []
    },
    {
      "cell_type": "code",
      "source": [
        "install.packages('caret')\n",
        "library(caret) \n",
        "f.conf <- confusionMatrix(conf)"
      ],
      "metadata": {
        "id": "MecvnW4ANRDP"
      },
      "execution_count": null,
      "outputs": []
    },
    {
      "cell_type": "code",
      "source": [
        "install.packages('yardstick')\n",
        "library(yardstick)\n",
        "library(ggplot2)"
      ],
      "metadata": {
        "id": "NpQaXArcNTWG"
      },
      "execution_count": null,
      "outputs": []
    },
    {
      "cell_type": "code",
      "source": [
        "set.seed(123)\n",
        "mat_conf <- data.frame(\n",
        "  FTR = sample(0:1,1325, replace = T),\n",
        "  predicted = sample(0:1,1325, replace = T)\n",
        ")\n",
        "mat_conf$FTR <- observations\n",
        "mat_conf$predicted <- predicted\n",
        "\n",
        "cm <- conf_mat(mat_conf, FTR, predicted)\n",
        "\n",
        "# Confusion matrix  to assess the quality of classification on a test set\n",
        "\n",
        "autoplot(cm, type = \"heatmap\") +\n",
        "  scale_fill_gradient(low = \"pink\", high = \"aquamarine1\")"
      ],
      "metadata": {
        "colab": {
          "base_uri": "https://localhost:8080/",
          "height": 489
        },
        "id": "0nmMKSniOorC",
        "outputId": "0b64e298-9030-4cce-9933-ebd8fd3412d2"
      },
      "execution_count": 14,
      "outputs": [
        {
          "output_type": "stream",
          "name": "stderr",
          "text": [
            "Scale for 'fill' is already present. Adding another scale for 'fill', which\n",
            "will replace the existing scale.\n",
            "\n"
          ]
        },
        {
          "output_type": "display_data",
          "data": {
            "image/png": "[encoded data removed]",
            "text/plain": [
              "plot without title"
            ]
          },
          "metadata": {
            "image/png": {
              "width": 420,
              "height": 420
            }
          }
        }
      ]
    },
    {
      "cell_type": "code",
      "source": [
        "print(f.conf)"
      ],
      "metadata": {
        "colab": {
          "base_uri": "https://localhost:8080/"
        },
        "id": "fY9q-ujXPBR8",
        "outputId": "0a073580-53bc-44ea-d280-aa1c3366926b"
      },
      "execution_count": 9,
      "outputs": [
        {
          "output_type": "stream",
          "name": "stdout",
          "text": [
            "Confusion Matrix and Statistics\n",
            "\n",
            "         observations\n",
            "predicted   H   A   D\n",
            "        H 482 122 158\n",
            "        A  92 274 107\n",
            "        D  25  32  33\n",
            "\n",
            "Overall Statistics\n",
            "                                         \n",
            "               Accuracy : 0.5955         \n",
            "                 95% CI : (0.5685, 0.622)\n",
            "    No Information Rate : 0.4521         \n",
            "    P-Value [Acc > NIR] : < 2.2e-16      \n",
            "                                         \n",
            "                  Kappa : 0.3362         \n",
            "                                         \n",
            " Mcnemar's Test P-Value : < 2.2e-16      \n",
            "\n",
            "Statistics by Class:\n",
            "\n",
            "                     Class: H Class: A Class: D\n",
            "Sensitivity            0.8047   0.6402  0.11074\n",
            "Specificity            0.6143   0.7781  0.94450\n",
            "Pos Pred Value         0.6325   0.5793  0.36667\n",
            "Neg Pred Value         0.7922   0.8192  0.78543\n",
            "Prevalence             0.4521   0.3230  0.22491\n",
            "Detection Rate         0.3638   0.2068  0.02491\n",
            "Detection Prevalence   0.5751   0.3570  0.06792\n",
            "Balanced Accuracy      0.7095   0.7092  0.52762\n"
          ]
        }
      ]
    },
    {
      "cell_type": "markdown",
      "source": [
        "It can be concluded that the highest sensitivity was recorded for the home victory (H) level, in his\n",
        "In this case, 80% of all matches ended with this result were correctly predicted. The lowest sensitivity value is for draws (D) and it is very low. This is due to the fact that it is usually the rarest result in football, and it was also the least frequent in 2010-2020. The model is therefore not sensitive to prediction of draws.\n",
        "\n",
        "\n",
        "While for this result (D) the specificity value is high - it can be concluded that 94% of all matches in which in fact do not\n",
        "a draw was observed that was correctly predicted as a result other than a draw.\n",
        "\n"
      ],
      "metadata": {
        "id": "72xosFdR5U9J"
      }
    }
  ]
}