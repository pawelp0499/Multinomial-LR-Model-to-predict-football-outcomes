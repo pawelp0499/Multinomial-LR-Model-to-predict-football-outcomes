{
  "nbformat": 4,
  "nbformat_minor": 0,
  "metadata": {
    "colab": {
      "name": "Untitled0.ipynb",
      "provenance": []
    },
    "kernelspec": {
      "name": "ir",
      "display_name": "R"
    },
    "language_info": {
      "name": "R"
    }
  },
  "cells": [
    {
      "cell_type": "code",
      "source": [
        "install.packages('e1071', dependencies = TRUE)\n",
        "\n",
        "observations <- factor(output$Actual,\n",
        "                        levels = c(\"H\", \"A\", \"D\"))\n",
        "\n",
        "predicted <- factor(output$Predicted,\n",
        "                       levels = c(\"H\", \"A\", \"D\"))\n",
        "\n",
        "conf <- table(predicted, observations)"
      ],
      "metadata": {
        "id": "oUB6lT_UNd2z"
      },
      "execution_count": null,
      "outputs": []
    },
    {
      "cell_type": "code",
      "source": [
        "install.packages('caret')\n",
        "library(caret) \n",
        "f.conf <- confusionMatrix(conf)"
      ],
      "metadata": {
        "id": "MecvnW4ANRDP"
      },
      "execution_count": null,
      "outputs": []
    },
    {
      "cell_type": "code",
      "source": [
        "install.packages('yardstick')\n",
        "library(yardstick)\n",
        "library(ggplot2)"
      ],
      "metadata": {
        "id": "NpQaXArcNTWG"
      },
      "execution_count": null,
      "outputs": []
    },
    {
      "cell_type": "code",
      "source": [
        "set.seed(123)\n",
        "mat_conf <- data.frame(\n",
        "  FTR = sample(0:1,1325, replace = T),\n",
        "  predicted = sample(0:1,1325, replace = T)\n",
        ")\n",
        "mat_conf$FTR <- observations\n",
        "mat_conf$predicted <- predicted\n",
        "\n",
        "cm <- conf_mat(mat_conf, FTR, predicted)\n",
        "\n",
        "# Confusion matrix  to assess the quality of classification on a test set\n",
        "\n",
        "autoplot(cm, type = \"heatmap\") +\n",
        "  scale_fill_gradient(low = \"aquamarine1\", high = \"firebrick1\")"
      ],
      "metadata": {
        "colab": {
          "base_uri": "https://localhost:8080/",
          "height": 489
        },
        "id": "0nmMKSniOorC",
        "outputId": "5e26fe44-abcd-41b0-9ac8-878e567af62a"
      },
      "execution_count": 18,
      "outputs": [
        {
          "output_type": "stream",
          "name": "stderr",
          "text": [
            "Scale for 'fill' is already present. Adding another scale for 'fill', which\n",
            "will replace the existing scale.\n",
            "\n"
          ]
        },
        {
          "output_type": "display_data",
          "data": {
            "image/png": "[encoded data removed]",
            "text/plain": [
              "plot without title"
            ]
          },
          "metadata": {
            "image/png": {
              "width": 420,
              "height": 420
            }
          }
        }
      ]
    },
    {
      "cell_type": "code",
      "source": [
        "print(f.conf)"
      ],
      "metadata": {
        "colab": {
          "base_uri": "https://localhost:8080/"
        },
        "id": "fY9q-ujXPBR8",
        "outputId": "7543e512-da80-45d9-a313-4d923a2a7a32"
      },
      "execution_count": 20,
      "outputs": [
        {
          "output_type": "stream",
          "name": "stdout",
          "text": [
            "Confusion Matrix and Statistics\n",
            "\n",
            "         observations\n",
            "predicted   H   A   D\n",
            "        H 482 122 158\n",
            "        A  92 274 107\n",
            "        D  25  32  33\n",
            "\n",
            "Overall Statistics\n",
            "                                         \n",
            "               Accuracy : 0.5955         \n",
            "                 95% CI : (0.5685, 0.622)\n",
            "    No Information Rate : 0.4521         \n",
            "    P-Value [Acc > NIR] : < 2.2e-16      \n",
            "                                         \n",
            "                  Kappa : 0.3362         \n",
            "                                         \n",
            " Mcnemar's Test P-Value : < 2.2e-16      \n",
            "\n",
            "Statistics by Class:\n",
            "\n",
            "                     Class: H Class: A Class: D\n",
            "Sensitivity            0.8047   0.6402  0.11074\n",
            "Specificity            0.6143   0.7781  0.94450\n",
            "Pos Pred Value         0.6325   0.5793  0.36667\n",
            "Neg Pred Value         0.7922   0.8192  0.78543\n",
            "Prevalence             0.4521   0.3230  0.22491\n",
            "Detection Rate         0.3638   0.2068  0.02491\n",
            "Detection Prevalence   0.5751   0.3570  0.06792\n",
            "Balanced Accuracy      0.7095   0.7092  0.52762\n"
          ]
        }
      ]
    }
  ]
}